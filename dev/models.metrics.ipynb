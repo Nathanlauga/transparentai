{
 "cells": [
  {
   "cell_type": "code",
   "execution_count": 1,
   "metadata": {},
   "outputs": [],
   "source": [
    "import sklearn.metrics\n",
    "import numpy as np\n",
    "import pandas as pd"
   ]
  },
  {
   "cell_type": "code",
   "execution_count": null,
   "metadata": {},
   "outputs": [],
   "source": []
  },
  {
   "cell_type": "code",
   "execution_count": 2,
   "metadata": {},
   "outputs": [],
   "source": [
    "import transparentai.models.classification as classification\n",
    "import transparentai.models.regression as regression"
   ]
  },
  {
   "cell_type": "code",
   "execution_count": 13,
   "metadata": {},
   "outputs": [
    {
     "data": {
      "text/plain": [
       "['__builtins__',\n",
       " '__cached__',\n",
       " '__doc__',\n",
       " '__file__',\n",
       " '__loader__',\n",
       " '__name__',\n",
       " '__package__',\n",
       " '__spec__',\n",
       " 'accuracy',\n",
       " 'average_precision',\n",
       " 'balanced_accuracy',\n",
       " 'brier_score',\n",
       " 'confusion_matrix',\n",
       " 'f1',\n",
       " 'f1_macro',\n",
       " 'f1_micro',\n",
       " 'f1_samples',\n",
       " 'f1_weighted',\n",
       " 'false_negatives',\n",
       " 'false_positives',\n",
       " 'jaccard',\n",
       " 'log_loss',\n",
       " 'matthews_corrcoef',\n",
       " 'np',\n",
       " 'precision',\n",
       " 'recall',\n",
       " 'roc_auc',\n",
       " 'roc_auc_ovo',\n",
       " 'roc_auc_ovo_weighted',\n",
       " 'roc_auc_ovr',\n",
       " 'roc_auc_ovr_weighted',\n",
       " 'sklearn',\n",
       " 'true_negatives',\n",
       " 'true_positives']"
      ]
     },
     "execution_count": 13,
     "metadata": {},
     "output_type": "execute_result"
    }
   ],
   "source": [
    "import transparentai.models.evaluation.classification as clf_eval\n",
    "\n",
    "dir(clf_eval)"
   ]
  },
  {
   "cell_type": "code",
   "execution_count": 10,
   "metadata": {},
   "outputs": [
    {
     "name": "stdout",
     "output_type": "stream",
     "text": [
      "{'accuracy': 0.625, 'f1': 0.6666666666666665, 'custom_1': 1}\n",
      "{'accuracy': 0.75, 'f1': 0.7499999999999999, 'custom_1': 1}\n",
      "{'accuracy': 0.6666666666666666, 'f1_macro': 0.6666666666666665, 'custom_1': 1}\n",
      "{'RMSE': 0.8660254037844386, 'MAE': 0.6666666666666666, 'mean_squared_log_error': 0.031137926523503903, 'custom_1': 1}\n"
     ]
    }
   ],
   "source": [
    "y_true = [0, 0, 0, 1, 1, 1, 1, 1]\n",
    "y_pred = [0, 1, 0, 1, 0, 1, 0, 1]\n",
    "metrics = ['accuracy','f1',lambda y_true, y_pred:1]\n",
    "\n",
    "print(classification.compute_metrics(y_true, y_pred, metrics))\n",
    "\n",
    "\n",
    "y_true = [0, 0, 0, 1, 1, 1, 1, 1]\n",
    "y_pred = [0.2, 0.49, 0, 1, 0.3, 0.8, 0, 1]\n",
    "\n",
    "print(classification.compute_metrics(y_true, y_pred, metrics))\n",
    "\n",
    "y_true = [0, 0, 0, 1, 2, 1, 1, 1, 2]\n",
    "y_pred = [0, 1, 0, 1, 1, 1, 0, 1, 2]\n",
    "\n",
    "metrics = ['accuracy','f1_macro',lambda y_true, y_pred:1]\n",
    "print(classification.compute_metrics(y_true, y_pred, metrics))\n",
    "    \n",
    "\n",
    "y_true = [3, 5, 2.5, 7, 9, 5.5]\n",
    "y_pred = [2.5, 5, 4, 8, 9, 4.5]\n",
    "metrics = ['RMSE','MAE','mean_squared_log_error',lambda y_true, y_pred:1]\n",
    "\n",
    "print(regression.compute_metrics(y_true, y_pred, metrics))"
   ]
  },
  {
   "cell_type": "code",
   "execution_count": null,
   "metadata": {},
   "outputs": [],
   "source": []
  }
 ],
 "metadata": {
  "kernelspec": {
   "display_name": "Python 3",
   "language": "python",
   "name": "python3"
  },
  "language_info": {
   "codemirror_mode": {
    "name": "ipython",
    "version": 3
   },
   "file_extension": ".py",
   "mimetype": "text/x-python",
   "name": "python",
   "nbconvert_exporter": "python",
   "pygments_lexer": "ipython3",
   "version": "3.7.7"
  }
 },
 "nbformat": 4,
 "nbformat_minor": 4
}
