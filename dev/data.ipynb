{
 "cells": [
  {
   "cell_type": "code",
   "execution_count": 1,
   "metadata": {},
   "outputs": [],
   "source": [
    "import numpy as np\n",
    "import pandas as pd\n",
    "import random\n",
    "import datetime"
   ]
  },
  {
   "cell_type": "code",
   "execution_count": 2,
   "metadata": {},
   "outputs": [],
   "source": [
    "from transparentai.datasets import load_adult\n",
    "from transparentai import utils\n",
    "from transparentai.datasets import variable"
   ]
  },
  {
   "cell_type": "code",
   "execution_count": 3,
   "metadata": {},
   "outputs": [],
   "source": [
    "data = load_adult()"
   ]
  },
  {
   "cell_type": "code",
   "execution_count": 4,
   "metadata": {},
   "outputs": [],
   "source": [
    "def generate_birthdate(age):\n",
    "    month = random.randint(1,12)\n",
    "    day = random.randint(1,28)\n",
    "    year = 2020 - age\n",
    "    return datetime.date(year, month, day)\n",
    "\n",
    "data['birthdate'] = data['age'].apply(generate_birthdate)\n",
    "data = data.replace('?',np.nan)"
   ]
  },
  {
   "cell_type": "code",
   "execution_count": 5,
   "metadata": {},
   "outputs": [
    {
     "data": {
      "text/html": [
       "<div>\n",
       "<style scoped>\n",
       "    .dataframe tbody tr th:only-of-type {\n",
       "        vertical-align: middle;\n",
       "    }\n",
       "\n",
       "    .dataframe tbody tr th {\n",
       "        vertical-align: top;\n",
       "    }\n",
       "\n",
       "    .dataframe thead th {\n",
       "        text-align: right;\n",
       "    }\n",
       "</style>\n",
       "<table border=\"1\" class=\"dataframe\">\n",
       "  <thead>\n",
       "    <tr style=\"text-align: right;\">\n",
       "      <th></th>\n",
       "      <th>age</th>\n",
       "      <th>workclass</th>\n",
       "      <th>fnlwgt</th>\n",
       "      <th>education</th>\n",
       "      <th>education-num</th>\n",
       "      <th>marital-status</th>\n",
       "      <th>occupation</th>\n",
       "      <th>relationship</th>\n",
       "      <th>race</th>\n",
       "      <th>gender</th>\n",
       "      <th>capital-gain</th>\n",
       "      <th>capital-loss</th>\n",
       "      <th>hours-per-week</th>\n",
       "      <th>native-country</th>\n",
       "      <th>income</th>\n",
       "      <th>birthdate</th>\n",
       "    </tr>\n",
       "  </thead>\n",
       "  <tbody>\n",
       "    <tr>\n",
       "      <th>26230</th>\n",
       "      <td>26</td>\n",
       "      <td>Private</td>\n",
       "      <td>137678</td>\n",
       "      <td>HS-grad</td>\n",
       "      <td>9</td>\n",
       "      <td>Never-married</td>\n",
       "      <td>Other-service</td>\n",
       "      <td>Not-in-family</td>\n",
       "      <td>White</td>\n",
       "      <td>Male</td>\n",
       "      <td>0</td>\n",
       "      <td>0</td>\n",
       "      <td>40</td>\n",
       "      <td>United-States</td>\n",
       "      <td>&lt;=50K</td>\n",
       "      <td>1994-03-20</td>\n",
       "    </tr>\n",
       "    <tr>\n",
       "      <th>32928</th>\n",
       "      <td>49</td>\n",
       "      <td>Private</td>\n",
       "      <td>133917</td>\n",
       "      <td>Assoc-voc</td>\n",
       "      <td>11</td>\n",
       "      <td>Never-married</td>\n",
       "      <td>Sales</td>\n",
       "      <td>Other-relative</td>\n",
       "      <td>Black</td>\n",
       "      <td>Male</td>\n",
       "      <td>0</td>\n",
       "      <td>0</td>\n",
       "      <td>40</td>\n",
       "      <td>NaN</td>\n",
       "      <td>&lt;=50K</td>\n",
       "      <td>1971-02-11</td>\n",
       "    </tr>\n",
       "    <tr>\n",
       "      <th>14717</th>\n",
       "      <td>59</td>\n",
       "      <td>Self-emp-inc</td>\n",
       "      <td>145574</td>\n",
       "      <td>Assoc-voc</td>\n",
       "      <td>11</td>\n",
       "      <td>Married-civ-spouse</td>\n",
       "      <td>Exec-managerial</td>\n",
       "      <td>Husband</td>\n",
       "      <td>White</td>\n",
       "      <td>Male</td>\n",
       "      <td>0</td>\n",
       "      <td>0</td>\n",
       "      <td>40</td>\n",
       "      <td>United-States</td>\n",
       "      <td>&gt;50K</td>\n",
       "      <td>1961-04-10</td>\n",
       "    </tr>\n",
       "    <tr>\n",
       "      <th>997</th>\n",
       "      <td>22</td>\n",
       "      <td>Private</td>\n",
       "      <td>152328</td>\n",
       "      <td>Some-college</td>\n",
       "      <td>10</td>\n",
       "      <td>Never-married</td>\n",
       "      <td>Farming-fishing</td>\n",
       "      <td>Not-in-family</td>\n",
       "      <td>White</td>\n",
       "      <td>Male</td>\n",
       "      <td>0</td>\n",
       "      <td>0</td>\n",
       "      <td>40</td>\n",
       "      <td>United-States</td>\n",
       "      <td>&lt;=50K</td>\n",
       "      <td>1998-06-11</td>\n",
       "    </tr>\n",
       "  </tbody>\n",
       "</table>\n",
       "</div>"
      ],
      "text/plain": [
       "       age     workclass  fnlwgt     education  education-num  \\\n",
       "26230   26       Private  137678       HS-grad              9   \n",
       "32928   49       Private  133917     Assoc-voc             11   \n",
       "14717   59  Self-emp-inc  145574     Assoc-voc             11   \n",
       "997     22       Private  152328  Some-college             10   \n",
       "\n",
       "           marital-status       occupation    relationship   race gender  \\\n",
       "26230       Never-married    Other-service   Not-in-family  White   Male   \n",
       "32928       Never-married            Sales  Other-relative  Black   Male   \n",
       "14717  Married-civ-spouse  Exec-managerial         Husband  White   Male   \n",
       "997         Never-married  Farming-fishing   Not-in-family  White   Male   \n",
       "\n",
       "       capital-gain  capital-loss  hours-per-week native-country income  \\\n",
       "26230             0             0              40  United-States  <=50K   \n",
       "32928             0             0              40            NaN  <=50K   \n",
       "14717             0             0              40  United-States   >50K   \n",
       "997               0             0              40  United-States  <=50K   \n",
       "\n",
       "        birthdate  \n",
       "26230  1994-03-20  \n",
       "32928  1971-02-11  \n",
       "14717  1961-04-10  \n",
       "997    1998-06-11  "
      ]
     },
     "execution_count": 5,
     "metadata": {},
     "output_type": "execute_result"
    }
   ],
   "source": [
    "data.sample(4)"
   ]
  },
  {
   "cell_type": "code",
   "execution_count": 6,
   "metadata": {},
   "outputs": [],
   "source": [
    "desc = {}\n",
    "for col in data.columns:\n",
    "    var = data[col]\n",
    "    desc[col] = variable.describe(var)"
   ]
  },
  {
   "cell_type": "code",
   "execution_count": 8,
   "metadata": {},
   "outputs": [
    {
     "data": {
      "text/plain": [
       "{'valid values': 48842,\n",
       " 'missing values': 0,\n",
       " 'mean': 38.6436,\n",
       " 'mode': 36,\n",
       " 'min': 17,\n",
       " 'quantile 25%': 28.0,\n",
       " 'quantile 50%': 37.0,\n",
       " 'quantile 75%': 48.0,\n",
       " 'max': 90}"
      ]
     },
     "execution_count": 8,
     "metadata": {},
     "output_type": "execute_result"
    }
   ],
   "source": [
    "desc['age']"
   ]
  },
  {
   "cell_type": "code",
   "execution_count": 20,
   "metadata": {},
   "outputs": [
    {
     "name": "stdout",
     "output_type": "stream",
     "text": [
      "number number\n",
      "number number\n",
      "datetime datetime\n",
      "object object\n",
      "number number\n",
      "number number\n",
      "datetime datetime\n",
      "object object\n"
     ]
    }
   ],
   "source": [
    "print(utils.find_dtype([1,2]),'number')\n",
    "print(utils.find_dtype(['1','2']),'number')\n",
    "print(utils.find_dtype([datetime.date(1958,5,12),datetime.date(1980,12,12)]),'datetime')\n",
    "print(utils.find_dtype(['blabla','2']),'object')\n",
    "print(utils.find_dtype(pd.DataFrame([1,2])),'number')\n",
    "print(utils.find_dtype(pd.Series(['1','2'])),'number')\n",
    "print(utils.find_dtype(pd.Series([datetime.date(1958,5,12),datetime.date(1980,12,12)])),'datetime')\n",
    "print(utils.find_dtype(pd.DataFrame(['blabla','2'])),'object')"
   ]
  },
  {
   "cell_type": "code",
   "execution_count": null,
   "metadata": {},
   "outputs": [],
   "source": [
    "self.assertRaises(TypeError, utils.find_dtype(1))\n",
    "self.assertRaises(TypeError, utils.find_dtype('1'))\n",
    "self.assertRaises(TypeError, utils.find_dtype({'test':1}))"
   ]
  },
  {
   "cell_type": "code",
   "execution_count": null,
   "metadata": {},
   "outputs": [],
   "source": []
  },
  {
   "cell_type": "code",
   "execution_count": null,
   "metadata": {},
   "outputs": [],
   "source": []
  },
  {
   "cell_type": "code",
   "execution_count": null,
   "metadata": {},
   "outputs": [],
   "source": []
  }
 ],
 "metadata": {
  "kernelspec": {
   "display_name": "Python 3",
   "language": "python",
   "name": "python3"
  },
  "language_info": {
   "codemirror_mode": {
    "name": "ipython",
    "version": 3
   },
   "file_extension": ".py",
   "mimetype": "text/x-python",
   "name": "python",
   "nbconvert_exporter": "python",
   "pygments_lexer": "ipython3",
   "version": "3.7.7"
  }
 },
 "nbformat": 4,
 "nbformat_minor": 4
}
