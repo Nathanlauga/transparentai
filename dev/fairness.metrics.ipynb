{
 "cells": [
  {
   "cell_type": "code",
   "execution_count": 1,
   "metadata": {},
   "outputs": [],
   "source": [
    "import sklearn.metrics\n",
    "import numpy as np\n",
    "import pandas as pd\n",
    "from transparentai.datasets import load_adult, load_iris\n",
    "from sklearn.ensemble import RandomForestClassifier\n",
    "from sklearn.model_selection import train_test_split\n",
    "\n",
    "from transparentai.models import classification\n",
    "\n",
    "import transparentai.fairness as fairness"
   ]
  },
  {
   "cell_type": "code",
   "execution_count": 2,
   "metadata": {},
   "outputs": [
    {
     "data": {
      "text/plain": [
       "RandomForestClassifier(bootstrap=True, ccp_alpha=0.0, class_weight=None,\n",
       "                       criterion='gini', max_depth=None, max_features='auto',\n",
       "                       max_leaf_nodes=None, max_samples=None,\n",
       "                       min_impurity_decrease=0.0, min_impurity_split=None,\n",
       "                       min_samples_leaf=1, min_samples_split=2,\n",
       "                       min_weight_fraction_leaf=0.0, n_estimators=100,\n",
       "                       n_jobs=None, oob_score=False, random_state=None,\n",
       "                       verbose=0, warm_start=False)"
      ]
     },
     "execution_count": 2,
     "metadata": {},
     "output_type": "execute_result"
    }
   ],
   "source": [
    "data = load_adult()\n",
    "X, Y = data.drop(columns='income'), data['income']\n",
    "X = X.select_dtypes('number')\n",
    "Y = Y.replace({'>50K':1, '<=50K':0})\n",
    "X_train, X_valid, Y_train, Y_valid = train_test_split(X, Y, test_size=0.33, random_state=42)\n",
    "clf = RandomForestClassifier()\n",
    "clf.fit(X_train,Y_train)"
   ]
  },
  {
   "cell_type": "code",
   "execution_count": 3,
   "metadata": {},
   "outputs": [],
   "source": [
    "y_true = Y_train\n",
    "y_true_valid = Y_valid\n",
    "y_pred = clf.predict_proba(X_train)\n",
    "y_pred_valid = clf.predict_proba(X_valid)"
   ]
  },
  {
   "cell_type": "code",
   "execution_count": 4,
   "metadata": {},
   "outputs": [
    {
     "name": "stderr",
     "output_type": "stream",
     "text": [
      "/usr/local/lib/python3.7/site-packages/transparentai-0.2.0-py3.7.egg/transparentai/fairness/fairness.py:60: UserWarning: test variable is not in df columns\n",
      "  warnings.warn('%s variable is not in df columns' % k)\n"
     ]
    }
   ],
   "source": [
    "privileged_group = {\n",
    "    'gender':['Male'],                \n",
    "    'age': lambda x: x > 30 & x < 55, \n",
    "    'workclass': ['Private'],\n",
    "    'marital-status': lambda x: 'Married' in x,\n",
    "    'race':['White'],\n",
    "    'test':['d']\n",
    "}\n",
    "\n",
    "df_valid = data.loc[X_valid.index,:]\n",
    "df_train = data.loc[X_train.index,:]\n",
    "\n",
    "res_train = fairness.compute_fairness_metrics(y_true, \n",
    "                                     y_pred, \n",
    "                                     df_train,\n",
    "                                     privileged_group)\n",
    "\n",
    "res_valid = fairness.compute_fairness_metrics(y_true_valid, \n",
    "                                     y_pred_valid, \n",
    "                                     df_valid,\n",
    "                                     privileged_group)"
   ]
  },
  {
   "cell_type": "code",
   "execution_count": 5,
   "metadata": {},
   "outputs": [
    {
     "name": "stdout",
     "output_type": "stream",
     "text": [
      "{'gender': {'statistical_parity_difference': -0.19476541000793168, 'disparate_impact': 0.36193507464018176, 'equal_opportunity_difference': 0.0012555131216205329, 'average_odds_difference': 0.0002648639770150698, 'theil_index': 0.0009858691255119644}, 'age': {'statistical_parity_difference': -0.203725061026309, 'disparate_impact': 0.25714521167788223, 'equal_opportunity_difference': -0.007162267576955039, 'average_odds_difference': -0.0037346275592520773, 'theil_index': 0.0009858691255119644}, 'workclass': {'statistical_parity_difference': 0.07348962811212864, 'disparate_impact': 1.3373409073344713, 'equal_opportunity_difference': 0.0018590852857182094, 'average_odds_difference': 0.0007175586065426077, 'theil_index': 0.0009858691255119644}, 'marital-status': {'statistical_parity_difference': -0.3723357356482332, 'disparate_impact': 0.14530776576648555, 'equal_opportunity_difference': 0.001977948760519821, 'average_odds_difference': 0.0007141900360776936, 'theil_index': 0.0009858691255119644}, 'race': {'statistical_parity_difference': -0.09510859492707646, 'disparate_impact': 0.6257654500256311, 'equal_opportunity_difference': -0.0004787356463098469, 'average_odds_difference': -0.0005028282561880715, 'theil_index': 0.0009858691255119644}}\n",
      "\n",
      "{'gender': {'statistical_parity_difference': -0.10235082698590256, 'disparate_impact': 0.5586426659280159, 'equal_opportunity_difference': -0.05840289061433229, 'average_odds_difference': -0.036283492099390316, 'theil_index': 0.1452796128062464}, 'age': {'statistical_parity_difference': -0.1948951453007571, 'disparate_impact': 0.15312970228597522, 'equal_opportunity_difference': -0.2605143453080968, 'average_odds_difference': -0.1804428793416722, 'theil_index': 0.1452796128062464}, 'workclass': {'statistical_parity_difference': 0.08666917078138353, 'disparate_impact': 1.5039186810201601, 'equal_opportunity_difference': 0.076420747740444, 'average_odds_difference': 0.0654138647447072, 'theil_index': 0.1452796128062464}, 'marital-status': {'statistical_parity_difference': -0.17290274492818117, 'disparate_impact': 0.4056915305365138, 'equal_opportunity_difference': 0.11830091239184837, 'average_odds_difference': 0.03948806928638821, 'theil_index': 0.1452796128062464}, 'race': {'statistical_parity_difference': -0.0528461555684647, 'disparate_impact': 0.7434359252775632, 'equal_opportunity_difference': 0.01696785690713487, 'average_odds_difference': 0.004715909400656651, 'theil_index': 0.1452796128062464}}\n"
     ]
    }
   ],
   "source": [
    "print(res_train)\n",
    "print()\n",
    "print(res_valid)"
   ]
  },
  {
   "cell_type": "code",
   "execution_count": 6,
   "metadata": {},
   "outputs": [
    {
     "data": {
      "text/plain": [
       "LinearRegression(copy_X=True, fit_intercept=True, n_jobs=None, normalize=False)"
      ]
     },
     "execution_count": 6,
     "metadata": {},
     "output_type": "execute_result"
    }
   ],
   "source": [
    "from transparentai.datasets import load_boston\n",
    "from sklearn.linear_model import LinearRegression\n",
    "\n",
    "data = load_boston()\n",
    "X, Y = data.drop(columns='MEDV'), data['MEDV']\n",
    "X_train, X_valid, Y_train, Y_valid = train_test_split(X, Y, test_size=0.33, random_state=42)\n",
    "regr = LinearRegression()\n",
    "regr.fit(X_train, Y_train)"
   ]
  },
  {
   "cell_type": "code",
   "execution_count": 7,
   "metadata": {},
   "outputs": [],
   "source": [
    "y_true = Y_train\n",
    "y_true_valid = Y_valid\n",
    "y_pred = regr.predict(X_train)\n",
    "y_pred_valid = regr.predict(X_valid)"
   ]
  },
  {
   "cell_type": "code",
   "execution_count": 8,
   "metadata": {},
   "outputs": [],
   "source": [
    "privileged_group = {\n",
    "    'AGE': lambda x: (x > 30) & (x < 55)\n",
    "}\n",
    "\n",
    "df_valid = data.loc[X_valid.index,:]\n",
    "df_train = data.loc[X_train.index,:]\n",
    "\n",
    "res_train = fairness.compute_fairness_metrics(y_true, y_pred, df_train,\n",
    "                                              privileged_group, regr_split='mean')\n",
    "\n",
    "res_valid = fairness.compute_fairness_metrics(y_true_valid, y_pred_valid, \n",
    "                                              df_valid, privileged_group, regr_split='mean')"
   ]
  },
  {
   "cell_type": "code",
   "execution_count": 9,
   "metadata": {},
   "outputs": [
    {
     "name": "stdout",
     "output_type": "stream",
     "text": [
      "{'AGE': {'statistical_parity_difference': -0.24278409090909092, 'disparate_impact': 0.6386469344608879, 'equal_opportunity_difference': 0.030268418046830448, 'average_odds_difference': -0.13176501578278632, 'theil_index': 0.07290000413883886}}\n",
      "\n",
      "{'AGE': {'statistical_parity_difference': -0.32598939208486327, 'disparate_impact': 0.5575858250276855, 'equal_opportunity_difference': 0.05590062111801242, 'average_odds_difference': -0.19990227625885348, 'theil_index': 0.08033756338030891}}\n"
     ]
    }
   ],
   "source": [
    "print(res_train)\n",
    "print()\n",
    "print(res_valid)"
   ]
  },
  {
   "cell_type": "code",
   "execution_count": 10,
   "metadata": {},
   "outputs": [
    {
     "data": {
      "text/plain": [
       "<function transparentai.fairness.metrics.theil_index(y_true, y_pred, prot_attr, pos_label=1)>"
      ]
     },
     "execution_count": 10,
     "metadata": {},
     "output_type": "execute_result"
    }
   ],
   "source": [
    "from transparentai.fairness import metrics\n",
    "metrics.statistical_parity_difference\n",
    "metrics.equal_opportunity_difference\n",
    "metrics.average_odds_difference\n",
    "metrics.disparate_impact\n",
    "metrics.theil_index\n",
    "\n",
    "# from transparentai.fairness import model_bias\n",
    "\n",
    "# model_bias(y_true, y_pred, social_attr, returns_text=False)"
   ]
  },
  {
   "cell_type": "code",
   "execution_count": 12,
   "metadata": {},
   "outputs": [
    {
     "data": {
      "text/plain": [
       "{'statistical_parity_difference': <function transparentai.fairness.metrics.statistical_parity_difference(y, prot_attr, pos_label=1)>,\n",
       " 'disparate_impact': <function transparentai.fairness.metrics.disparate_impact(y, prot_attr, pos_label=1)>,\n",
       " 'equal_opportunity_difference': <function transparentai.fairness.metrics.equal_opportunity_difference(y_true, y_pred, prot_attr, pos_label=1)>,\n",
       " 'average_odds_difference': <function transparentai.fairness.metrics.average_odds_difference(y_true, y_pred, prot_attr, pos_label=1)>,\n",
       " 'theil_index': <function transparentai.fairness.metrics.theil_index(y_true, y_pred, prot_attr, pos_label=1)>}"
      ]
     },
     "execution_count": 12,
     "metadata": {},
     "output_type": "execute_result"
    }
   ],
   "source": [
    "fairness."
   ]
  },
  {
   "cell_type": "code",
   "execution_count": null,
   "metadata": {},
   "outputs": [],
   "source": []
  },
  {
   "cell_type": "code",
   "execution_count": null,
   "metadata": {},
   "outputs": [],
   "source": []
  },
  {
   "cell_type": "code",
   "execution_count": null,
   "metadata": {},
   "outputs": [],
   "source": []
  },
  {
   "cell_type": "code",
   "execution_count": null,
   "metadata": {},
   "outputs": [],
   "source": []
  }
 ],
 "metadata": {
  "kernelspec": {
   "display_name": "Python 3",
   "language": "python",
   "name": "python3"
  },
  "language_info": {
   "codemirror_mode": {
    "name": "ipython",
    "version": 3
   },
   "file_extension": ".py",
   "mimetype": "text/x-python",
   "name": "python",
   "nbconvert_exporter": "python",
   "pygments_lexer": "ipython3",
   "version": "3.7.7"
  }
 },
 "nbformat": 4,
 "nbformat_minor": 4
}
