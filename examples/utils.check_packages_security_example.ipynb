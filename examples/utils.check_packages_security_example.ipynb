{
 "cells": [
  {
   "cell_type": "markdown",
   "metadata": {},
   "source": [
    "`utils.check_packages_security` example\n",
    "-----\n",
    "\n",
    "### Load utils"
   ]
  },
  {
   "cell_type": "code",
   "execution_count": 1,
   "metadata": {},
   "outputs": [],
   "source": [
    "import transparentai.utils as utils"
   ]
  },
  {
   "cell_type": "markdown",
   "metadata": {},
   "source": [
    "Install an insecure package"
   ]
  },
  {
   "cell_type": "code",
   "execution_count": 2,
   "metadata": {},
   "outputs": [
    {
     "name": "stdout",
     "output_type": "stream",
     "text": [
      "Collecting insecure-package==0.1\n",
      "  Downloading insecure_package-0.1.0-py2.py3-none-any.whl (3.5 kB)\n",
      "Installing collected packages: insecure-package\n",
      "Successfully installed insecure-package-0.1.0\n"
     ]
    }
   ],
   "source": [
    "!pip install insecure-package==0.1"
   ]
  },
  {
   "cell_type": "markdown",
   "metadata": {},
   "source": [
    "### check_packages_security"
   ]
  },
  {
   "cell_type": "code",
   "execution_count": 4,
   "metadata": {},
   "outputs": [
    {
     "name": "stdout",
     "output_type": "stream",
     "text": [
      "+==============================================================================+\n",
      "|                                                                              |\n",
      "|                               /$$$$$$            /$$                         |\n",
      "|                              /$$__  $$          | $$                         |\n",
      "|           /$$$$$$$  /$$$$$$ | $$  \\__//$$$$$$  /$$$$$$   /$$   /$$           |\n",
      "|          /$$_____/ |____  $$| $$$$   /$$__  $$|_  $$_/  | $$  | $$           |\n",
      "|         |  $$$$$$   /$$$$$$$| $$_/  | $$$$$$$$  | $$    | $$  | $$           |\n",
      "|          \\____  $$ /$$__  $$| $$    | $$_____/  | $$ /$$| $$  | $$           |\n",
      "|          /$$$$$$$/|  $$$$$$$| $$    |  $$$$$$$  |  $$$$/|  $$$$$$$           |\n",
      "|         |_______/  \\_______/|__/     \\_______/   \\___/   \\____  $$           |\n",
      "|                                                          /$$  | $$           |\n",
      "|                                                         |  $$$$$$/           |\n",
      "|  by pyup.io                                              \\______/            |\n",
      "|                                                                              |\n",
      "+==============================================================================+\n",
      "| REPORT                                                                       |\n",
      "| checked 78 packages, using default DB                                        |\n",
      "+============================+===========+==========================+==========+\n",
      "| package                    | installed | affected                 | ID       |\n",
      "+============================+===========+==========================+==========+\n",
      "| insecure-package           | 0.1.0     | <0.2.0                   | 25853    |\n",
      "+==============================================================================+\n",
      "| This is an insecure package with lots of exploitable security                |\n",
      "| vulnerabilities.                                                             |\n",
      "+==============================================================================+\n",
      "\n"
     ]
    }
   ],
   "source": [
    "utils.check_packages_security(full_report=True)"
   ]
  },
  {
   "cell_type": "markdown",
   "metadata": {},
   "source": [
    "As we can see the package is referenced as an insecure package with th why. You can change the `full_report` argument as `False` if you don't want to see details."
   ]
  }
 ],
 "metadata": {
  "kernelspec": {
   "display_name": "Python 3",
   "language": "python",
   "name": "python3"
  },
  "language_info": {
   "codemirror_mode": {
    "name": "ipython",
    "version": 3
   },
   "file_extension": ".py",
   "mimetype": "text/x-python",
   "name": "python",
   "nbconvert_exporter": "python",
   "pygments_lexer": "ipython3",
   "version": "3.7.7"
  }
 },
 "nbformat": 4,
 "nbformat_minor": 4
}
