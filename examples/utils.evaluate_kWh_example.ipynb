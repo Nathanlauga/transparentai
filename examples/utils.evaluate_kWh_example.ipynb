{
 "cells": [
  {
   "cell_type": "markdown",
   "metadata": {},
   "source": [
    "`evaluate_kWh` example\n",
    "---------"
   ]
  },
  {
   "cell_type": "code",
   "execution_count": 1,
   "metadata": {},
   "outputs": [],
   "source": [
    "import transparentai.utils as utils\n",
    "\n",
    "import numpy as np\n",
    "from sklearn.tree import DecisionTreeClassifier\n",
    "from sklearn.datasets import load_iris"
   ]
  },
  {
   "cell_type": "markdown",
   "metadata": {},
   "source": [
    "### Load data"
   ]
  },
  {
   "cell_type": "code",
   "execution_count": 2,
   "metadata": {},
   "outputs": [],
   "source": [
    "data = load_iris()"
   ]
  },
  {
   "cell_type": "markdown",
   "metadata": {},
   "source": [
    "I repeat the data 5000 times otherwise the function does not have enough times to compute"
   ]
  },
  {
   "cell_type": "code",
   "execution_count": 3,
   "metadata": {},
   "outputs": [],
   "source": [
    "Y = np.repeat(data.target, 5000, axis=0)\n",
    "X = np.repeat(data.data, 5000, axis=0)"
   ]
  },
  {
   "cell_type": "markdown",
   "metadata": {},
   "source": [
    "### Create model"
   ]
  },
  {
   "cell_type": "code",
   "execution_count": 4,
   "metadata": {},
   "outputs": [],
   "source": [
    "clf = DecisionTreeClassifier()"
   ]
  },
  {
   "cell_type": "markdown",
   "metadata": {},
   "source": [
    "Check out the score at first so that we are sure the model is trained after using the `evaluate_kWh` function"
   ]
  },
  {
   "cell_type": "code",
   "execution_count": 5,
   "metadata": {},
   "outputs": [
    {
     "data": {
      "text/plain": [
       "0.3333333333333333"
      ]
     },
     "execution_count": 5,
     "metadata": {},
     "output_type": "execute_result"
    }
   ],
   "source": [
    "clf.fit(X[:1], Y[:1])\n",
    "clf.score(X, Y)"
   ]
  },
  {
   "cell_type": "markdown",
   "metadata": {},
   "source": [
    "### Using evaluate_kWh"
   ]
  },
  {
   "cell_type": "code",
   "execution_count": 6,
   "metadata": {},
   "outputs": [
    {
     "name": "stdout",
     "output_type": "stream",
     "text": [
      "Location:                                                                 France\n",
      "Baseline wattage:                                                    15.65 watts\n",
      "Process wattage:                                                     21.24 watts\n",
      "\u001b[1A\u001b[1A--------------------------------------------------------------------------------\n",
      "-------------------------------  Final Readings  -------------------------------\n",
      "--------------------------------------------------------------------------------\n",
      "Average baseline wattage:                                            16.03 watts\n",
      "Average total wattage:                                               22.16 watts\n",
      "Average process wattage:                                              6.13 watts\n",
      "Process duration:                                                        0:00:00\n",
      "--------------------------------------------------------------------------------\n",
      "-------------------------------   Energy Data    -------------------------------\n",
      "--------------------------------------------------------------------------------\n",
      "                              Energy mix in France                              \n",
      "Coal:                                                                      3.12%\n",
      "Petroleum:                                                                16.06%\n",
      "Natural Gas:                                                              33.56%\n",
      "Low Carbon:                                                               47.26%\n",
      "--------------------------------------------------------------------------------\n",
      "-------------------------------    Emissions     -------------------------------\n",
      "--------------------------------------------------------------------------------\n",
      "Effective emission:                                              3.71e-07 kg CO2\n",
      "Equivalent miles driven:                                          1.52e-13 miles\n",
      "Equivalent minutes of 32-inch LCD TV watched:                   2.30e-04 minutes\n",
      "Percentage of CO2 used in a US household/day:                          1.22e-13%\n",
      "--------------------------------------------------------------------------------\n",
      "------------------------- Assumed Carbon Equivalencies -------------------------\n",
      "--------------------------------------------------------------------------------\n",
      "Coal:                                                      995.725971 kg CO2/MWh\n",
      "Petroleum:                                                816.6885263 kg CO2/MWh\n",
      "Natural gas:                                              743.8415916 kg CO2/MWh\n",
      "Low carbon:                                                         0 kg CO2/MWh\n",
      "--------------------------------------------------------------------------------\n",
      "-------------------------     Emissions Comparison     -------------------------\n",
      "--------------------------------------------------------------------------------\n",
      "                      Quantities below expressed in kg CO2                      \n",
      "        US                      Europe                  Global minus US/Europe\n",
      "Max:    Wyoming        8.04e-07 Kosovo         8.25e-07 Mongolia        8.07e-07\n",
      "Median: Tennessee      3.93e-07 Ukraine        5.76e-07 Korea, South    6.59e-07\n",
      "Min:    Vermont        2.26e-08 Iceland        1.48e-07 Bhutan          9.18e-08\n",
      "--------------------------------------------------------------------------------\n",
      "--------------------------------------------------------------------------------\n",
      "Process used:                                                       8.74e-07 kWh\n"
     ]
    }
   ],
   "source": [
    "kWh, clf = utils.evaluate_kWh(clf.fit, X, Y, verbose=True)"
   ]
  },
  {
   "cell_type": "code",
   "execution_count": 7,
   "metadata": {},
   "outputs": [
    {
     "name": "stdout",
     "output_type": "stream",
     "text": [
      "The fit function consumed 0.000000874 kWh\n"
     ]
    }
   ],
   "source": [
    "print('The fit function consumed %.9f kWh'%kWh)"
   ]
  },
  {
   "cell_type": "code",
   "execution_count": 8,
   "metadata": {},
   "outputs": [
    {
     "data": {
      "text/plain": [
       "1.0"
      ]
     },
     "execution_count": 8,
     "metadata": {},
     "output_type": "execute_result"
    }
   ],
   "source": [
    "clf.score(X, Y)"
   ]
  },
  {
   "cell_type": "markdown",
   "metadata": {},
   "source": [
    "It fitted perfectly and we have the details report above !"
   ]
  }
 ],
 "metadata": {
  "kernelspec": {
   "display_name": "Python 3",
   "language": "python",
   "name": "python3"
  },
  "language_info": {
   "codemirror_mode": {
    "name": "ipython",
    "version": 3
   },
   "file_extension": ".py",
   "mimetype": "text/x-python",
   "name": "python",
   "nbconvert_exporter": "python",
   "pygments_lexer": "ipython3",
   "version": "3.7.7"
  }
 },
 "nbformat": 4,
 "nbformat_minor": 4
}
